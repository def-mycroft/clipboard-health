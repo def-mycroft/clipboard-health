{
 "cells": [
  {
   "cell_type": "code",
   "execution_count": 2,
   "id": "43a2f67a-97b5-44c5-abce-565efe4d800e",
   "metadata": {},
   "outputs": [],
   "source": [
    "import pandas as pd\n",
    "from os.path import join, expanduser"
   ]
  },
  {
   "cell_type": "markdown",
   "id": "ecfe010e-2f64-4e12-9b16-d50350b65ca8",
   "metadata": {},
   "source": [
    "# Load Base Data"
   ]
  },
  {
   "cell_type": "code",
   "execution_count": 46,
   "id": "9dc8892d-8966-4539-a507-3408666c975c",
   "metadata": {},
   "outputs": [],
   "source": [
    "df = pd.read_csv('/d/PBJ_Daily_Nurse_Staffing_Q2_2024.csv', encoding='latin1', low_memory=False)\n",
    "df.columns = [x.lower() for x in df.columns]\n",
    "BASE_COLS = ['provnum', 'city', 'state', 'county_name', 'county_fips', 'cy_qtr', 'workdate']\n",
    "assert df[BASE_COLS].drop_duplicates().shape[0] / len(df) == 1"
   ]
  },
  {
   "cell_type": "code",
   "execution_count": 49,
   "id": "bc7c566b-c9f5-4f52-84a1-8fa9c0e84188",
   "metadata": {},
   "outputs": [
    {
     "name": "stdout",
     "output_type": "stream",
     "text": [
      "['provnum', 'provname', 'city', 'state', 'county_name', 'county_fips', 'cy_qtr', 'workdate', 'mdscensus']\n"
     ]
    }
   ],
   "source": [
    "df.columns = [x.lower() for x in df.columns]\n",
    "print([x for x in df.columns if not x.startswith('hrs_')])"
   ]
  },
  {
   "cell_type": "code",
   "execution_count": 53,
   "id": "0482e061-be5b-463a-9b87-b6537b947c72",
   "metadata": {},
   "outputs": [
    {
     "name": "stdout",
     "output_type": "stream",
     "text": [
      "['hrs_rndon', 'hrs_rnadmin', 'hrs_rn', 'hrs_lpnadmin', 'hrs_lpn', 'hrs_cna', 'hrs_natrn', 'hrs_medaide']\n"
     ]
    }
   ],
   "source": [
    "cols_hrs = [x for x in df.columns if x.startswith('hrs_') and not x.endswith('_emp') and not x.endswith('_ctr')]\n",
    "print(cols_hrs)"
   ]
  },
  {
   "cell_type": "code",
   "execution_count": 87,
   "id": "1a9d19bc-d1a7-4f58-a33c-a1068a51d89d",
   "metadata": {},
   "outputs": [],
   "source": [
    "gr = df.groupby('state')[cols_hrs].sum()\n",
    "idx = gr.sum(axis=1).sort_values().index.tolist()\n",
    "gr = gr.reindex(idx)\n",
    "gr = gr.reset_index()"
   ]
  },
  {
   "cell_type": "code",
   "execution_count": 101,
   "id": "43e653b4-4326-4291-8501-91e8f8de96df",
   "metadata": {},
   "outputs": [],
   "source": [
    "roletype_names = {\n",
    "    'hrs_rndon': 'RN Director of Nursing',\n",
    "    'hrs_rnadmin': 'RN with Admin Duties',\n",
    "    'hrs_rn': 'Registered Nurse',\n",
    "    'hrs_lpnadmin': 'LPN with Admin Duties',\n",
    "    'hrs_lpn': 'Licensed Practical Nurse',\n",
    "    'hrs_cna': 'Certified Nursing Assistant',\n",
    "    'hrs_natrn': 'Nurse Aide Trainee',\n",
    "    'hrs_medaide': 'Medication Aide'\n",
    "}"
   ]
  },
  {
   "cell_type": "code",
   "execution_count": 110,
   "id": "fecd2829-3d19-4501-a148-befe13460bcd",
   "metadata": {},
   "outputs": [],
   "source": []
  },
  {
   "cell_type": "code",
   "execution_count": 114,
   "id": "983034e8-cc0b-4bbe-90ff-8633fbdb6a01",
   "metadata": {},
   "outputs": [],
   "source": [
    "import plotly.express as px\n",
    "\n",
    "colors = ['#1F7ABE', '#F0C277', '#C48646', '#D80A0C', '#000000', '#0E1B35', '#635D70', '#463F1A']\n",
    "\n",
    "roletype_order = [\n",
    "    'hrs_cna', \n",
    "    'hrs_lpn', \n",
    "    'hrs_rn', \n",
    "    'hrs_medaide',\n",
    "    'hrs_rnadmin', \n",
    "    'hrs_lpnadmin', \n",
    "    'hrs_rndon', \n",
    "    'hrs_natrn', \n",
    "]\n",
    "\n",
    "color_map = dict(zip(roletype_order, colors[:len(roletype_order)]))\n",
    "color_map = {roletype_names[k]:v for k,v in color_map.items()}\n",
    "\n",
    "df_melted = gr.melt(id_vars=['state'], \n",
    "                  value_vars=roletype_order,\n",
    "                  var_name='category', value_name='hours')\n",
    "\n",
    "df_melted['category'] = df_melted['category'].map(roletype_names)\n",
    "\n",
    "fig = px.bar(df_melted, \n",
    "             y='state', \n",
    "             x='hours', \n",
    "             color='category',\n",
    "             orientation='h',\n",
    "             color_discrete_map=color_map)\n",
    "\n",
    "fig.write_html('../images/hours-by-state.html')"
   ]
  },
  {
   "cell_type": "code",
   "execution_count": null,
   "id": "67093ad4-3f8b-4650-8a86-7ecc1c47650e",
   "metadata": {},
   "outputs": [],
   "source": []
  },
  {
   "cell_type": "code",
   "execution_count": null,
   "id": "e27d4952-7995-4806-8cbb-d8d3aac9ed1d",
   "metadata": {},
   "outputs": [],
   "source": []
  },
  {
   "cell_type": "code",
   "execution_count": null,
   "id": "24daa534-d1a3-4288-88ee-aff413d14cea",
   "metadata": {},
   "outputs": [],
   "source": []
  },
  {
   "cell_type": "code",
   "execution_count": null,
   "id": "3442b9fc-a616-41bc-a774-4e57b9338a82",
   "metadata": {},
   "outputs": [],
   "source": []
  },
  {
   "cell_type": "code",
   "execution_count": null,
   "id": "2ccf4296-fc54-455f-832d-0b119ba349ab",
   "metadata": {},
   "outputs": [],
   "source": []
  }
 ],
 "metadata": {
  "kernelspec": {
   "display_name": "Python 3 (ipykernel)",
   "language": "python",
   "name": "python3"
  },
  "language_info": {
   "codemirror_mode": {
    "name": "ipython",
    "version": 3
   },
   "file_extension": ".py",
   "mimetype": "text/x-python",
   "name": "python",
   "nbconvert_exporter": "python",
   "pygments_lexer": "ipython3",
   "version": "3.11.8"
  }
 },
 "nbformat": 4,
 "nbformat_minor": 5
}
