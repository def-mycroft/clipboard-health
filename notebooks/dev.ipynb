{
 "cells": [
  {
   "cell_type": "code",
   "execution_count": 132,
   "id": "24df11a8-7253-4cfa-bb7f-94c4fe35f048",
   "metadata": {},
   "outputs": [
    {
     "name": "stdout",
     "output_type": "stream",
     "text": [
      "The autoreload extension is already loaded. To reload it, use:\n",
      "  %reload_ext autoreload\n"
     ]
    }
   ],
   "source": [
    "%load_ext autoreload\n",
    "%autoreload 2"
   ]
  },
  {
   "cell_type": "code",
   "execution_count": 133,
   "id": "43a2f67a-97b5-44c5-abce-565efe4d800e",
   "metadata": {},
   "outputs": [],
   "source": [
    "from clipboard_health import main as ch\n",
    "from clipboard_health import images as chi\n",
    "\n",
    "import pandas as pd\n",
    "from plotly import express as px"
   ]
  },
  {
   "cell_type": "code",
   "execution_count": 134,
   "id": "3771f17c-60b9-41f0-87cd-3d590db9035e",
   "metadata": {},
   "outputs": [],
   "source": [
    "df = ch.load_base_data()"
   ]
  },
  {
   "cell_type": "code",
   "execution_count": 220,
   "id": "bfc00ba0-3a8f-4f49-854b-bc09817a874c",
   "metadata": {},
   "outputs": [
    {
     "data": {
      "text/plain": [
       "['mdscensus']"
      ]
     },
     "execution_count": 220,
     "metadata": {},
     "output_type": "execute_result"
    }
   ],
   "source": [
    "d = ['provname', 'provnum', 'city', 'state', 'workdate', 'county_name', 'county_fips', \n",
    "     'cy_qtr']\n",
    "[x for x in df.columns if x not in ch.HOURS_COLS and x not in d and not x.startswith('hrs_')]"
   ]
  },
  {
   "cell_type": "code",
   "execution_count": 221,
   "id": "8b5061d7-2777-4165-ab25-777595da98e7",
   "metadata": {},
   "outputs": [
    {
     "data": {
      "text/plain": [
       "array(['2024Q2'], dtype=object)"
      ]
     },
     "execution_count": 221,
     "metadata": {},
     "output_type": "execute_result"
    }
   ],
   "source": [
    "df['cy_qtr'].unique()"
   ]
  },
  {
   "cell_type": "code",
   "execution_count": null,
   "id": "ec793cc0-ed42-4fc0-a8fe-79f2285cd1d5",
   "metadata": {},
   "outputs": [],
   "source": []
  },
  {
   "cell_type": "code",
   "execution_count": null,
   "id": "db35421f-9969-4ed5-81a1-dcd119cad4e7",
   "metadata": {},
   "outputs": [],
   "source": []
  },
  {
   "cell_type": "code",
   "execution_count": null,
   "id": "33e30dd3-db52-42e5-bc20-da89f26a8c59",
   "metadata": {},
   "outputs": [],
   "source": []
  },
  {
   "cell_type": "code",
   "execution_count": 144,
   "id": "e1db9e2b-841a-48fa-9461-c9e215cda81c",
   "metadata": {},
   "outputs": [
    {
     "data": {
      "text/plain": [
       "1.0"
      ]
     },
     "execution_count": 144,
     "metadata": {},
     "output_type": "execute_result"
    }
   ],
   "source": [
    "df[['provname', 'provnum', 'workdate']].drop_duplicates().shape[0] / len(df)"
   ]
  },
  {
   "cell_type": "code",
   "execution_count": 145,
   "id": "0b81ce5d-46f7-4f87-a905-a79ba4c60d64",
   "metadata": {},
   "outputs": [
    {
     "data": {
      "text/plain": [
       "1.0"
      ]
     },
     "execution_count": 145,
     "metadata": {},
     "output_type": "execute_result"
    }
   ],
   "source": [
    "df[['provname', 'provnum', 'workdate', 'city', 'state']].drop_duplicates().shape[0] / len(df)"
   ]
  },
  {
   "cell_type": "code",
   "execution_count": 146,
   "id": "1dc13d65-8351-4b6a-9032-bb5c48145711",
   "metadata": {},
   "outputs": [
    {
     "data": {
      "text/plain": [
       "14378"
      ]
     },
     "execution_count": 146,
     "metadata": {},
     "output_type": "execute_result"
    }
   ],
   "source": [
    "len(df['provname'].unique())"
   ]
  },
  {
   "cell_type": "code",
   "execution_count": 166,
   "id": "e6fb218c-0762-4c38-9b47-27bdd25b19ed",
   "metadata": {},
   "outputs": [],
   "source": [
    "fp = '/l/tmp/NH_Ownership_Feb2025.csv'\n",
    "d = pd.read_csv(fp)\n",
    "d['ccn'] = d['CMS Certification Number (CCN)']\n",
    "d['name'] = d['Owner Name']"
   ]
  },
  {
   "cell_type": "code",
   "execution_count": 168,
   "id": "c4505a39-3e7e-42cf-9690-514b2a869981",
   "metadata": {},
   "outputs": [
    {
     "data": {
      "text/plain": [
       "0.8206998998169067"
      ]
     },
     "execution_count": 168,
     "metadata": {},
     "output_type": "execute_result"
    }
   ],
   "source": [
    "d[['ccn', 'name']].drop_duplicates().shape[0] / len(d)"
   ]
  },
  {
   "cell_type": "code",
   "execution_count": 165,
   "id": "b939c216-90b3-480f-bd3e-e4b213de825a",
   "metadata": {},
   "outputs": [
    {
     "name": "stdout",
     "output_type": "stream",
     "text": [
      "Index(['CMS Certification Number (CCN)', 'Provider Name', 'Provider Address',\n",
      "       'City/Town', 'State', 'ZIP Code',\n",
      "       'Role played by Owner or Manager in Facility', 'Owner Type',\n",
      "       'Owner Name', 'Ownership Percentage', 'Association Date', 'Location',\n",
      "       'Processing Date', 'ccn'],\n",
      "      dtype='object')\n"
     ]
    }
   ],
   "source": [
    "print(d.columns)"
   ]
  },
  {
   "cell_type": "code",
   "execution_count": 159,
   "id": "13deb592-c772-4288-a91e-863b9ec1e2f8",
   "metadata": {},
   "outputs": [
    {
     "data": {
      "text/plain": [
       "(43270,)"
      ]
     },
     "execution_count": 159,
     "metadata": {},
     "output_type": "execute_result"
    }
   ],
   "source": [
    "d['Owner Name'].unique().shape"
   ]
  },
  {
   "cell_type": "code",
   "execution_count": 169,
   "id": "0c5ae1e6-dd9f-4e82-bfb3-f9030b319929",
   "metadata": {},
   "outputs": [
    {
     "data": {
      "text/plain": [
       "(14782,)"
      ]
     },
     "execution_count": 169,
     "metadata": {},
     "output_type": "execute_result"
    }
   ],
   "source": [
    "d['ccn'].unique().shape"
   ]
  },
  {
   "cell_type": "code",
   "execution_count": 192,
   "id": "23fa4419-ba71-4c36-9c12-95c92f797fac",
   "metadata": {},
   "outputs": [
    {
     "data": {
      "text/html": [
       "<div>\n",
       "<style scoped>\n",
       "    .dataframe tbody tr th:only-of-type {\n",
       "        vertical-align: middle;\n",
       "    }\n",
       "\n",
       "    .dataframe tbody tr th {\n",
       "        vertical-align: top;\n",
       "    }\n",
       "\n",
       "    .dataframe thead th {\n",
       "        text-align: right;\n",
       "    }\n",
       "</style>\n",
       "<table border=\"1\" class=\"dataframe\">\n",
       "  <thead>\n",
       "    <tr style=\"text-align: right;\">\n",
       "      <th></th>\n",
       "      <th>CMS Certification Number (CCN)</th>\n",
       "      <th>Provider Name</th>\n",
       "      <th>Provider Address</th>\n",
       "      <th>City/Town</th>\n",
       "      <th>State</th>\n",
       "      <th>ZIP Code</th>\n",
       "      <th>Role played by Owner or Manager in Facility</th>\n",
       "      <th>Owner Type</th>\n",
       "      <th>Owner Name</th>\n",
       "      <th>Ownership Percentage</th>\n",
       "      <th>Association Date</th>\n",
       "      <th>Location</th>\n",
       "      <th>Processing Date</th>\n",
       "      <th>ccn</th>\n",
       "      <th>name</th>\n",
       "    </tr>\n",
       "  </thead>\n",
       "  <tbody>\n",
       "  </tbody>\n",
       "</table>\n",
       "</div>"
      ],
      "text/plain": [
       "Empty DataFrame\n",
       "Columns: [CMS Certification Number (CCN), Provider Name, Provider Address, City/Town, State, ZIP Code, Role played by Owner or Manager in Facility, Owner Type, Owner Name, Ownership Percentage, Association Date, Location, Processing Date, ccn, name]\n",
       "Index: []"
      ]
     },
     "execution_count": 192,
     "metadata": {},
     "output_type": "execute_result"
    }
   ],
   "source": [
    "prid = df['provnum'].sample().iloc[0]\n",
    "\n",
    "m = d['ccn'] == prid\n",
    "m &= d['Role played by Owner or Manager in Facility'] == 'OPERATIONAL/MANAGERIAL CONTROL'\n",
    "d[m]"
   ]
  },
  {
   "cell_type": "code",
   "execution_count": 194,
   "id": "081bb63a-76de-4584-a271-38b14fa28393",
   "metadata": {},
   "outputs": [
    {
     "data": {
      "text/plain": [
       "14782"
      ]
     },
     "execution_count": 194,
     "metadata": {},
     "output_type": "execute_result"
    }
   ],
   "source": [
    "d[['Provider Name', 'ccn']].drop_duplicates().shape[0]"
   ]
  },
  {
   "cell_type": "code",
   "execution_count": 195,
   "id": "5cde4ef1-89d3-467f-9b9d-9fb36890cb57",
   "metadata": {},
   "outputs": [
    {
     "data": {
      "text/plain": [
       "118784"
      ]
     },
     "execution_count": 195,
     "metadata": {},
     "output_type": "execute_result"
    }
   ],
   "source": [
    "d[['Owner Name', 'ccn']].drop_duplicates().shape[0]"
   ]
  },
  {
   "cell_type": "code",
   "execution_count": null,
   "id": "848b18c5-1636-4b3d-8674-601974d2ccfe",
   "metadata": {},
   "outputs": [],
   "source": []
  },
  {
   "cell_type": "code",
   "execution_count": 160,
   "id": "c80bc9ca-5044-4406-ba62-fba7ead5ffdb",
   "metadata": {},
   "outputs": [
    {
     "data": {
      "text/plain": [
       "144735"
      ]
     },
     "execution_count": 160,
     "metadata": {},
     "output_type": "execute_result"
    }
   ],
   "source": [
    "len(d)"
   ]
  },
  {
   "cell_type": "code",
   "execution_count": 152,
   "id": "6ba7ee3c-5f38-416f-b411-0016802edbc9",
   "metadata": {},
   "outputs": [
    {
     "data": {
      "text/plain": [
       "dtype('O')"
      ]
     },
     "execution_count": 152,
     "metadata": {},
     "output_type": "execute_result"
    }
   ],
   "source": [
    "d['ccn'].dtype"
   ]
  },
  {
   "cell_type": "code",
   "execution_count": null,
   "id": "63ef89f4-8872-4287-93f9-9070dd1c6213",
   "metadata": {},
   "outputs": [],
   "source": []
  },
  {
   "cell_type": "code",
   "execution_count": null,
   "id": "6bebadd8-595c-4007-b020-f9a730ba52bc",
   "metadata": {},
   "outputs": [],
   "source": []
  },
  {
   "cell_type": "code",
   "execution_count": null,
   "id": "a3ff5173-fdce-4892-baeb-fe8f79cf5906",
   "metadata": {},
   "outputs": [],
   "source": []
  },
  {
   "cell_type": "code",
   "execution_count": null,
   "id": "6fed83bf-6a5d-4c94-b6ff-0545ebf1d2b6",
   "metadata": {},
   "outputs": [],
   "source": []
  },
  {
   "cell_type": "markdown",
   "id": "ecfe010e-2f64-4e12-9b16-d50350b65ca8",
   "metadata": {},
   "source": [
    "# Hours by Type"
   ]
  },
  {
   "cell_type": "markdown",
   "id": "22c6ce20-4a58-49aa-bcaf-5e6cca8fd574",
   "metadata": {},
   "source": [
    "## fig = chi.hours_by_state(df)"
   ]
  },
  {
   "cell_type": "markdown",
   "id": "c999fb94-5ba5-43c6-90ce-2e723bddca3c",
   "metadata": {},
   "source": [
    "# Hours by State and Type"
   ]
  },
  {
   "cell_type": "code",
   "execution_count": 81,
   "id": "1068c339-b727-41d4-b978-274f1d4d2b75",
   "metadata": {},
   "outputs": [
    {
     "name": "stdout",
     "output_type": "stream",
     "text": [
      "wrote '/l/tmp/hours-by-state.html'\n"
     ]
    }
   ],
   "source": [
    "fig = chi.hours_by_state(df, dev_path=True)"
   ]
  },
  {
   "cell_type": "code",
   "execution_count": 82,
   "id": "caa31fc7-87b7-489d-9e3c-51ab0cda9ba6",
   "metadata": {},
   "outputs": [
    {
     "name": "stdout",
     "output_type": "stream",
     "text": [
      "wrote '/l/tmp/hours-by-role.html'\n",
      "wrote '/l/tmp/hours-by-state.html'\n"
     ]
    }
   ],
   "source": [
    "chi.build_images(df)"
   ]
  },
  {
   "cell_type": "markdown",
   "id": "d19c967c-440e-48bb-88f7-af2484a375fa",
   "metadata": {},
   "source": [
    "# Hours by State and Contractor Ratio"
   ]
  },
  {
   "cell_type": "code",
   "execution_count": 206,
   "id": "5ab79690-e21f-4443-8725-401c1c865753",
   "metadata": {},
   "outputs": [
    {
     "data": {
      "text/html": [
       "<div>\n",
       "<style scoped>\n",
       "    .dataframe tbody tr th:only-of-type {\n",
       "        vertical-align: middle;\n",
       "    }\n",
       "\n",
       "    .dataframe tbody tr th {\n",
       "        vertical-align: top;\n",
       "    }\n",
       "\n",
       "    .dataframe thead th {\n",
       "        text-align: right;\n",
       "    }\n",
       "</style>\n",
       "<table border=\"1\" class=\"dataframe\">\n",
       "  <thead>\n",
       "    <tr style=\"text-align: right;\">\n",
       "      <th></th>\n",
       "      <th>Total Hours</th>\n",
       "      <th>Employee Hours</th>\n",
       "      <th>Contractor Hours</th>\n",
       "      <th>Contractor / Total</th>\n",
       "      <th>Contractor Market Share</th>\n",
       "    </tr>\n",
       "    <tr>\n",
       "      <th>roletype</th>\n",
       "      <th></th>\n",
       "      <th></th>\n",
       "      <th></th>\n",
       "      <th></th>\n",
       "      <th></th>\n",
       "    </tr>\n",
       "  </thead>\n",
       "  <tbody>\n",
       "    <tr>\n",
       "      <th>Certified Nursing Assistant</th>\n",
       "      <td>230,329K</td>\n",
       "      <td>214,185K</td>\n",
       "      <td>16,144K</td>\n",
       "      <td>7.0%</td>\n",
       "      <td>55.9%</td>\n",
       "    </tr>\n",
       "    <tr>\n",
       "      <th>Licensed Practical Nurse</th>\n",
       "      <td>87,700K</td>\n",
       "      <td>79,571K</td>\n",
       "      <td>8,129K</td>\n",
       "      <td>9.3%</td>\n",
       "      <td>28.1%</td>\n",
       "    </tr>\n",
       "    <tr>\n",
       "      <th>Registered Nurse</th>\n",
       "      <td>46,124K</td>\n",
       "      <td>42,397K</td>\n",
       "      <td>3,726K</td>\n",
       "      <td>8.1%</td>\n",
       "      <td>12.9%</td>\n",
       "    </tr>\n",
       "    <tr>\n",
       "      <th>RN with Admin Duties</th>\n",
       "      <td>13,601K</td>\n",
       "      <td>13,269K</td>\n",
       "      <td>333K</td>\n",
       "      <td>2.4%</td>\n",
       "      <td>1.2%</td>\n",
       "    </tr>\n",
       "    <tr>\n",
       "      <th>Medication Aide</th>\n",
       "      <td>11,369K</td>\n",
       "      <td>11,084K</td>\n",
       "      <td>285K</td>\n",
       "      <td>2.5%</td>\n",
       "      <td>1.0%</td>\n",
       "    </tr>\n",
       "    <tr>\n",
       "      <th>LPN with Admin Duties</th>\n",
       "      <td>8,896K</td>\n",
       "      <td>8,806K</td>\n",
       "      <td>90K</td>\n",
       "      <td>1.0%</td>\n",
       "      <td>0.3%</td>\n",
       "    </tr>\n",
       "    <tr>\n",
       "      <th>RN Director of Nursing</th>\n",
       "      <td>6,886K</td>\n",
       "      <td>6,758K</td>\n",
       "      <td>128K</td>\n",
       "      <td>1.9%</td>\n",
       "      <td>0.4%</td>\n",
       "    </tr>\n",
       "    <tr>\n",
       "      <th>Nurse Aide Trainee</th>\n",
       "      <td>5,718K</td>\n",
       "      <td>5,649K</td>\n",
       "      <td>69K</td>\n",
       "      <td>1.2%</td>\n",
       "      <td>0.2%</td>\n",
       "    </tr>\n",
       "  </tbody>\n",
       "</table>\n",
       "</div>"
      ],
      "text/plain": [
       "                            Total Hours Employee Hours Contractor Hours  \\\n",
       "roletype                                                                  \n",
       "Certified Nursing Assistant    230,329K       214,185K          16,144K   \n",
       "Licensed Practical Nurse        87,700K        79,571K           8,129K   \n",
       "Registered Nurse                46,124K        42,397K           3,726K   \n",
       "RN with Admin Duties            13,601K        13,269K             333K   \n",
       "Medication Aide                 11,369K        11,084K             285K   \n",
       "LPN with Admin Duties            8,896K         8,806K              90K   \n",
       "RN Director of Nursing           6,886K         6,758K             128K   \n",
       "Nurse Aide Trainee               5,718K         5,649K              69K   \n",
       "\n",
       "                            Contractor / Total Contractor Market Share  \n",
       "roletype                                                                \n",
       "Certified Nursing Assistant               7.0%                   55.9%  \n",
       "Licensed Practical Nurse                  9.3%                   28.1%  \n",
       "Registered Nurse                          8.1%                   12.9%  \n",
       "RN with Admin Duties                      2.4%                    1.2%  \n",
       "Medication Aide                           2.5%                    1.0%  \n",
       "LPN with Admin Duties                     1.0%                    0.3%  \n",
       "RN Director of Nursing                    1.9%                    0.4%  \n",
       "Nurse Aide Trainee                        1.2%                    0.2%  "
      ]
     },
     "execution_count": 206,
     "metadata": {},
     "output_type": "execute_result"
    }
   ],
   "source": [
    "d = chi.prep_ctr_ratio_hours(df, fancy=True)\n",
    "d"
   ]
  },
  {
   "cell_type": "code",
   "execution_count": null,
   "id": "47c851e0-c794-4a7c-81f3-01d2cae2ef1d",
   "metadata": {},
   "outputs": [],
   "source": []
  },
  {
   "cell_type": "code",
   "execution_count": null,
   "id": "35c154d5-d640-49d7-bc97-4caff25b9f6b",
   "metadata": {},
   "outputs": [],
   "source": []
  },
  {
   "cell_type": "code",
   "execution_count": null,
   "id": "be79c6a8-9c61-4f57-b667-70464ee9b3ed",
   "metadata": {},
   "outputs": [],
   "source": []
  },
  {
   "cell_type": "code",
   "execution_count": 7,
   "id": "194f720f-8b93-4a49-9344-e154eccc39c0",
   "metadata": {},
   "outputs": [
    {
     "data": {
      "text/plain": [
       "Index(['provnum', 'provname', 'city', 'state', 'county_name', 'county_fips',\n",
       "       'cy_qtr', 'workdate', 'mdscensus', 'hrs_rndon', 'hrs_rndon_emp',\n",
       "       'hrs_rndon_ctr', 'hrs_rnadmin', 'hrs_rnadmin_emp', 'hrs_rnadmin_ctr',\n",
       "       'hrs_rn', 'hrs_rn_emp', 'hrs_rn_ctr', 'hrs_lpnadmin',\n",
       "       'hrs_lpnadmin_emp', 'hrs_lpnadmin_ctr', 'hrs_lpn', 'hrs_lpn_emp',\n",
       "       'hrs_lpn_ctr', 'hrs_cna', 'hrs_cna_emp', 'hrs_cna_ctr', 'hrs_natrn',\n",
       "       'hrs_natrn_emp', 'hrs_natrn_ctr', 'hrs_medaide', 'hrs_medaide_emp',\n",
       "       'hrs_medaide_ctr'],\n",
       "      dtype='object')"
      ]
     },
     "execution_count": 7,
     "metadata": {},
     "output_type": "execute_result"
    }
   ],
   "source": [
    "df.columns"
   ]
  },
  {
   "cell_type": "code",
   "execution_count": null,
   "id": "555cb043-5a06-4365-b61f-987766416917",
   "metadata": {},
   "outputs": [],
   "source": []
  },
  {
   "cell_type": "code",
   "execution_count": null,
   "id": "e27d4952-7995-4806-8cbb-d8d3aac9ed1d",
   "metadata": {},
   "outputs": [],
   "source": []
  },
  {
   "cell_type": "code",
   "execution_count": null,
   "id": "24daa534-d1a3-4288-88ee-aff413d14cea",
   "metadata": {},
   "outputs": [],
   "source": []
  },
  {
   "cell_type": "code",
   "execution_count": null,
   "id": "3442b9fc-a616-41bc-a774-4e57b9338a82",
   "metadata": {},
   "outputs": [],
   "source": []
  },
  {
   "cell_type": "code",
   "execution_count": null,
   "id": "2ccf4296-fc54-455f-832d-0b119ba349ab",
   "metadata": {},
   "outputs": [],
   "source": []
  }
 ],
 "metadata": {
  "kernelspec": {
   "display_name": "Python 3 (ipykernel)",
   "language": "python",
   "name": "python3"
  },
  "language_info": {
   "codemirror_mode": {
    "name": "ipython",
    "version": 3
   },
   "file_extension": ".py",
   "mimetype": "text/x-python",
   "name": "python",
   "nbconvert_exporter": "python",
   "pygments_lexer": "ipython3",
   "version": "3.11.8"
  }
 },
 "nbformat": 4,
 "nbformat_minor": 5
}
