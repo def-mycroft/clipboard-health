{
 "cells": [
  {
   "cell_type": "code",
   "execution_count": 1,
   "id": "24df11a8-7253-4cfa-bb7f-94c4fe35f048",
   "metadata": {},
   "outputs": [],
   "source": [
    "%load_ext autoreload\n",
    "%autoreload 2"
   ]
  },
  {
   "cell_type": "code",
   "execution_count": 2,
   "id": "43a2f67a-97b5-44c5-abce-565efe4d800e",
   "metadata": {},
   "outputs": [],
   "source": [
    "from clipboard_health import main as ch\n",
    "from clipboard_health import images as chi\n",
    "\n",
    "import pandas as pd\n",
    "from plotly import express as px"
   ]
  },
  {
   "cell_type": "markdown",
   "id": "ec1d06ec-88d2-417a-ba73-6ba7a92bb344",
   "metadata": {},
   "source": [
    "# Load Base Data"
   ]
  },
  {
   "cell_type": "code",
   "execution_count": 3,
   "id": "3771f17c-60b9-41f0-87cd-3d590db9035e",
   "metadata": {},
   "outputs": [],
   "source": [
    "df = ch.load_base_data()"
   ]
  },
  {
   "cell_type": "markdown",
   "id": "f3516fc0-4e7c-4629-8ea0-d5ae9b734bc6",
   "metadata": {},
   "source": [
    "## Setup"
   ]
  },
  {
   "cell_type": "code",
   "execution_count": 4,
   "id": "a1408153-4cd2-4549-87d5-951f70451ff0",
   "metadata": {},
   "outputs": [],
   "source": [
    "d = df['workdate'].unique().tolist()\n",
    "dates = dict(zip(d, [pd.to_datetime(x, format='%Y%m%d').floor('D') for x in d]))\n",
    "df['date'] = df['workdate'].map(dates)"
   ]
  },
  {
   "cell_type": "markdown",
   "id": "68e3a825-3274-4a74-8ca9-4e5417053902",
   "metadata": {},
   "source": [
    "## Inspections"
   ]
  },
  {
   "cell_type": "code",
   "execution_count": 5,
   "id": "0180d53b-646b-41ff-854b-3364722b250d",
   "metadata": {},
   "outputs": [
    {
     "name": "stdout",
     "output_type": "stream",
     "text": [
      "there are 14,564 unique provider numbers\n",
      "all of these data are from 2024Q2\n",
      "there are 52 unique states. \n",
      "there are 2705 unique counties. \n",
      "there are 5086 unique cities. \n"
     ]
    }
   ],
   "source": [
    "msg = 'Should have unique pairs of date and facility identifier'\n",
    "assert df[['date', 'provnum']].drop_duplicates().shape[0] / len(df) == 1, msg\n",
    "\n",
    "n = len(df['provnum'].unique())\n",
    "print(f\"there are {n:,.0f} unique provider numbers\")\n",
    "\n",
    "q = df['cy_qtr'].unique()[0]\n",
    "print(f\"all of these data are from {q}\")\n",
    "\n",
    "ns = len(df['state'].unique())\n",
    "print(f\"there are {ns:.0f} unique states. \")\n",
    "\n",
    "nc = len(df[['county_name', 'county_fips']].drop_duplicates())\n",
    "print(f\"there are {nc:.0f} unique counties. \")\n",
    "\n",
    "nc = len(df['city'].unique())\n",
    "print(f\"there are {nc:.0f} unique cities. \")"
   ]
  },
  {
   "cell_type": "code",
   "execution_count": 48,
   "id": "10084b16-ff29-438f-accd-07dfaf4a595e",
   "metadata": {},
   "outputs": [
    {
     "name": "stdout",
     "output_type": "stream",
     "text": [
      "wrote '/l/tmp/hours-by-role.html'\n",
      "wrote '/l/tmp/hours-by-state.html'\n",
      "wrote '/l/tmp/tch-crr.html'\n",
      "wrote '/l/tmp/prob-shortfall-day.html'\n",
      "wrote '/l/tmp/deficit-by-state.html'\n"
     ]
    }
   ],
   "source": [
    "chi.build_images(df)"
   ]
  },
  {
   "cell_type": "code",
   "execution_count": 17,
   "id": "0e2de55b-0153-4cd8-9a1d-18bf4b069d70",
   "metadata": {},
   "outputs": [
    {
     "name": "stdout",
     "output_type": "stream",
     "text": [
      "wrote '/l/tmp/deficit-by-state.html'\n"
     ]
    }
   ],
   "source": [
    "fig = chi.deficit_hours_by_state(df)"
   ]
  },
  {
   "cell_type": "code",
   "execution_count": 46,
   "id": "2ae926ac-672d-4515-9b25-6a2dac2ca6e9",
   "metadata": {},
   "outputs": [
    {
     "name": "stdout",
     "output_type": "stream",
     "text": [
      "wrote '/l/tmp/prob-shortfall-day.html'\n"
     ]
    }
   ],
   "source": [
    "fig = chi.plot_prob_shortfall_day(df)"
   ]
  },
  {
   "cell_type": "code",
   "execution_count": 121,
   "id": "a2521e7c-16aa-429a-bfd0-da25bfc446c9",
   "metadata": {},
   "outputs": [],
   "source": []
  },
  {
   "cell_type": "code",
   "execution_count": null,
   "id": "2e130838-09be-41cc-ae3b-e2481ffcaa45",
   "metadata": {},
   "outputs": [],
   "source": []
  },
  {
   "cell_type": "code",
   "execution_count": null,
   "id": "ad322616-0c5d-42d2-b2d7-5f9876f1ea16",
   "metadata": {},
   "outputs": [],
   "source": []
  },
  {
   "cell_type": "code",
   "execution_count": null,
   "id": "71493f74-be0a-4551-b44f-af651387875c",
   "metadata": {},
   "outputs": [],
   "source": []
  },
  {
   "cell_type": "code",
   "execution_count": null,
   "id": "7065ba76-dee1-45d9-a352-6b2072258dcf",
   "metadata": {},
   "outputs": [],
   "source": []
  },
  {
   "cell_type": "code",
   "execution_count": null,
   "id": "e655c0a5-8afa-4ba4-97ce-ad3e9ad6485a",
   "metadata": {},
   "outputs": [],
   "source": []
  },
  {
   "cell_type": "code",
   "execution_count": null,
   "id": "f3313925-5180-4a24-8824-778fed00f117",
   "metadata": {},
   "outputs": [],
   "source": []
  },
  {
   "cell_type": "code",
   "execution_count": null,
   "id": "86646cdf-def0-47c6-ba00-5cbe47a316ed",
   "metadata": {},
   "outputs": [],
   "source": []
  },
  {
   "cell_type": "code",
   "execution_count": null,
   "id": "4820c051-b30d-44f2-911c-a65ce9b304fe",
   "metadata": {},
   "outputs": [],
   "source": []
  },
  {
   "cell_type": "code",
   "execution_count": null,
   "id": "46dc706b-7e62-4ae0-bf7c-17b44556771c",
   "metadata": {},
   "outputs": [],
   "source": []
  }
 ],
 "metadata": {
  "kernelspec": {
   "display_name": "Python 3 (ipykernel)",
   "language": "python",
   "name": "python3"
  },
  "language_info": {
   "codemirror_mode": {
    "name": "ipython",
    "version": 3
   },
   "file_extension": ".py",
   "mimetype": "text/x-python",
   "name": "python",
   "nbconvert_exporter": "python",
   "pygments_lexer": "ipython3",
   "version": "3.11.8"
  }
 },
 "nbformat": 4,
 "nbformat_minor": 5
}
